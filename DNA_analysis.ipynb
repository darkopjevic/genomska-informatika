

import pysam 

file = pysam.AlignmentFile("/sbgenomics/project-files/merged-tumor.bam", "rb")
unmapped_reads = 0
all_reads = 0
reads_quality_mapping_zero = 0
mapping_quality = 0
first= None


first_read = pysam.AlignedSegment


for read in file.fetch():
    mapping_quality += read.mapping_quality
    all_reads += 1
    
    if read.is_unmapped: 
        unmapped_reads += 1
    if read.mapping_quality == 0:
        reads_quality_mapping_zero += 1
    
    if first == None: 
        first_read = read
        first= True

    
file.close()


print("Number of unmapped reads: " + str(unmapped_reads))
print("Number of reads: " + str(all_reads))
print("Number of reads with mapping quality 0: " + str(reads_quality_mapping_zero))
print("Average mapping quality for all the reads: " + str(mapping_quality / all_reads))
print("Average mapping quality if reads with 0 mapp quality are filtered out: " + str(mapping_quality / (all_reads - reads_quality_mapping_zero)))

print("Flag fields: " + str(first_read.flag))

print("Read paired: " + str(first_read.is_paired))
print("Read mapped in proper pair: " + str(first_read.is_proper_pair))
print("Read unmapped: " + str(first_read.is_unmapped))

