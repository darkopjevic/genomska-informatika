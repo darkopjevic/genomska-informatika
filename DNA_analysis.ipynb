{
 "cells": [
  {
   "cell_type": "code",
   "execution_count": 1,
   "metadata": {},
   "outputs": [
    {
     "name": "stdout",
     "output_type": "stream",
     "text": [
      "Number of unmapped reads: 17765\n",
      "Number of reads: 2921629\n",
      "Number of reads with mapping quality 0: 126628\n",
      "Average mapping quality for all the reads: 55.91379158681681\n",
      "Average mapping quality if reads with 0 mapp quality are filtered out: 58.446975510921106\n",
      "Flag fields: 1187\n",
      "Read paired: True\n",
      "Read mapped in proper pair: True\n",
      "Read unmapped: False\n"
     ]
    }
   ],
   "source": [
    "\n",
    "\n",
    "import pysam \n",
    "\n",
    "file = pysam.AlignmentFile(\"/sbgenomics/project-files/merged-tumor.bam\", \"rb\")\n",
    "unmapped_reads = 0\n",
    "all_reads = 0\n",
    "reads_quality_mapping_zero = 0\n",
    "mapping_quality = 0\n",
    "first= None\n",
    "\n",
    "\n",
    "first_read = pysam.AlignedSegment\n",
    "\n",
    "\n",
    "for read in file.fetch():\n",
    "    mapping_quality += read.mapping_quality\n",
    "    all_reads += 1\n",
    "    \n",
    "    if read.is_unmapped: \n",
    "        unmapped_reads += 1\n",
    "    if read.mapping_quality == 0:\n",
    "        reads_quality_mapping_zero += 1\n",
    "    \n",
    "    if first == None: \n",
    "        first_read = read\n",
    "        first= True\n",
    "\n",
    "    \n",
    "file.close()\n",
    "\n",
    "\n",
    "print(\"Number of unmapped reads: \" + str(unmapped_reads))\n",
    "print(\"Number of reads: \" + str(all_reads))\n",
    "print(\"Number of reads with mapping quality 0: \" + str(reads_quality_mapping_zero))\n",
    "print(\"Average mapping quality for all the reads: \" + str(mapping_quality / all_reads))\n",
    "print(\"Average mapping quality if reads with 0 mapp quality are filtered out: \" + str(mapping_quality / (all_reads - reads_quality_mapping_zero)))\n",
    "\n",
    "print(\"Flag fields: \" + str(first_read.flag))\n",
    "\n",
    "print(\"Read paired: \" + str(first_read.is_paired))\n",
    "print(\"Read mapped in proper pair: \" + str(first_read.is_proper_pair))\n",
    "print(\"Read unmapped: \" + str(first_read.is_unmapped))\n",
    "\n"
   ]
  },
  {
   "cell_type": "code",
   "execution_count": null,
   "metadata": {},
   "outputs": [],
   "source": []
  },
  {
   "cell_type": "code",
   "execution_count": null,
   "metadata": {},
   "outputs": [],
   "source": []
  },
  {
   "cell_type": "code",
   "execution_count": null,
   "metadata": {},
   "outputs": [],
   "source": []
  },
  {
   "cell_type": "code",
   "execution_count": null,
   "metadata": {},
   "outputs": [],
   "source": []
  }
 ],
 "metadata": {
  "kernelspec": {
   "display_name": "Python 3",
   "language": "python",
   "name": "python3"
  },
  "language_info": {
   "codemirror_mode": {
    "name": "ipython",
    "version": 3
   },
   "file_extension": ".py",
   "mimetype": "text/x-python",
   "name": "python",
   "nbconvert_exporter": "python",
   "pygments_lexer": "ipython3",
   "version": "3.6.3"
  }
 },
 "nbformat": 4,
 "nbformat_minor": 2
}
